{
 "cells": [
  {
   "cell_type": "code",
   "execution_count": 36,
   "id": "c7a4a92d",
   "metadata": {
    "scrolled": true
   },
   "outputs": [
    {
     "data": {
      "text/plain": [
       "'did you see last DID'"
      ]
     },
     "execution_count": 36,
     "metadata": {},
     "output_type": "execute_result"
    }
   ],
   "source": [
    "import string\n",
    "strg='wrw blf hvv ozhg DID'\n",
    "low=list(string.ascii_lowercase)\n",
    "low_rev=list(string.ascii_lowercase)\n",
    "low_rev.reverse()\n",
    "low\n",
    "sent=[]\n",
    "for i in strg.split():\n",
    "    rev_str=''\n",
    "    for j in i:\n",
    "        if j.islower():\n",
    "            pos=low.index(j)\n",
    "            rev_ele=low_rev[pos]\n",
    "            rev_str=rev_ele+rev_str\n",
    "        else:\n",
    "            rev_ele=j\n",
    "            rev_str=rev_ele+rev_str\n",
    "    sent.append(rev_str[::-1])\n",
    "(' ').join(sent)"
   ]
  },
  {
   "cell_type": "code",
   "execution_count": null,
   "id": "77774e1d",
   "metadata": {},
   "outputs": [],
   "source": []
  }
 ],
 "metadata": {
  "kernelspec": {
   "display_name": "Python 3",
   "language": "python",
   "name": "python3"
  },
  "language_info": {
   "codemirror_mode": {
    "name": "ipython",
    "version": 3
   },
   "file_extension": ".py",
   "mimetype": "text/x-python",
   "name": "python",
   "nbconvert_exporter": "python",
   "pygments_lexer": "ipython3",
   "version": "3.8.8"
  }
 },
 "nbformat": 4,
 "nbformat_minor": 5
}
