{
 "cells": [
  {
   "cell_type": "markdown",
   "id": "0e424211",
   "metadata": {},
   "source": [
    "# List"
   ]
  },
  {
   "cell_type": "markdown",
   "id": "02c0eb42",
   "metadata": {},
   "source": [
    "# List is mutable?\n",
    "List is mutable . we can add, remove, modifiy and replace the elements of a list."
   ]
  },
  {
   "cell_type": "code",
   "execution_count": 1,
   "id": "3c707b80",
   "metadata": {
    "scrolled": true
   },
   "outputs": [
    {
     "data": {
      "text/plain": [
       "[34, 56, ['hi', 45, 56]]"
      ]
     },
     "execution_count": 1,
     "metadata": {},
     "output_type": "execute_result"
    }
   ],
   "source": [
    "ls=[34,56,[-2,45,56]]\n",
    "ls[2][0] = \"hi\"\n",
    "ls"
   ]
  },
  {
   "cell_type": "code",
   "execution_count": 2,
   "id": "d0c43d52",
   "metadata": {},
   "outputs": [
    {
     "name": "stdout",
     "output_type": "stream",
     "text": [
      "['a', 10, 'e']\n"
     ]
    }
   ],
   "source": [
    "t = [\"a\",\"b\",\"c\",\"d\",\"e\"]\n",
    "\n",
    "del t[1:3]\n",
    "t[1] = 10\n",
    "print(t)"
   ]
  },
  {
   "cell_type": "code",
   "execution_count": 3,
   "id": "42337b86",
   "metadata": {},
   "outputs": [],
   "source": [
    "#(a)concatination of list\n",
    "ls1=[23,56,89,4]\n",
    "ls2=[\"hi\",4.5,12]\n",
    "ls3 = ls1+ ls2"
   ]
  },
  {
   "cell_type": "code",
   "execution_count": 4,
   "id": "1873f7ad",
   "metadata": {},
   "outputs": [
    {
     "data": {
      "text/plain": [
       "[23, 56, 89, 4, 'hi', 4.5, 12]"
      ]
     },
     "execution_count": 4,
     "metadata": {},
     "output_type": "execute_result"
    }
   ],
   "source": [
    "ls3"
   ]
  },
  {
   "cell_type": "code",
   "execution_count": 5,
   "id": "b09075b3",
   "metadata": {},
   "outputs": [
    {
     "data": {
      "text/plain": [
       "[1, 2, 3, 1, 2, 3, 1, 2, 3]"
      ]
     },
     "execution_count": 5,
     "metadata": {},
     "output_type": "execute_result"
    }
   ],
   "source": [
    "#(b)Repetitation of list\n",
    "ls=[1,2,3]\n",
    "#Repeat this list for 3 times.\n",
    "ls*3"
   ]
  },
  {
   "cell_type": "code",
   "execution_count": 6,
   "id": "f6ad27d5",
   "metadata": {},
   "outputs": [],
   "source": [
    "ls = [1,2,3] # append a value in a list\n",
    "ls.append(4)"
   ]
  },
  {
   "cell_type": "code",
   "execution_count": 7,
   "id": "0453f021",
   "metadata": {},
   "outputs": [
    {
     "data": {
      "text/plain": [
       "[1, 2, 3, 4]"
      ]
     },
     "execution_count": 7,
     "metadata": {},
     "output_type": "execute_result"
    }
   ],
   "source": [
    "ls"
   ]
  },
  {
   "cell_type": "code",
   "execution_count": 8,
   "id": "2fb995b8",
   "metadata": {},
   "outputs": [],
   "source": [
    "#(d) difference between append and extend\n",
    "\n"
   ]
  },
  {
   "cell_type": "markdown",
   "id": "6ee9c25c",
   "metadata": {},
   "source": [
    "### Solve above question with help of example"
   ]
  },
  {
   "cell_type": "code",
   "execution_count": 9,
   "id": "1d3547ba",
   "metadata": {},
   "outputs": [
    {
     "name": "stdout",
     "output_type": "stream",
     "text": [
      "[-3, 0, 2, 6, 23, 45]\n"
     ]
    }
   ],
   "source": [
    "ls=[45,6,2,23,-3,0]\n",
    "#i.sort list in ascending and descending\n",
    "ls.sort()\n",
    "print(ls)"
   ]
  },
  {
   "cell_type": "code",
   "execution_count": 10,
   "id": "b5ce7d26",
   "metadata": {},
   "outputs": [
    {
     "name": "stdout",
     "output_type": "stream",
     "text": [
      "[45, 23, 6, 2, 0, -3]\n"
     ]
    }
   ],
   "source": [
    "ls.sort(reverse= True)\n",
    "print(ls)"
   ]
  },
  {
   "cell_type": "code",
   "execution_count": 11,
   "id": "00ba2635",
   "metadata": {},
   "outputs": [
    {
     "name": "stdout",
     "output_type": "stream",
     "text": [
      "[45, 6, 23, -3, 0]\n"
     ]
    }
   ],
   "source": [
    "#iii. delete elt from list based on list index eg: index=2\n",
    "ls=[45,6,2,23,-3,0]\n",
    "ls.pop(2)\n",
    "print(ls)"
   ]
  },
  {
   "cell_type": "code",
   "execution_count": 12,
   "id": "85c50226",
   "metadata": {},
   "outputs": [
    {
     "name": "stdout",
     "output_type": "stream",
     "text": [
      "[45, 2, 23, -3, 0]\n"
     ]
    }
   ],
   "source": [
    "#iv.delete a required elt by its value Eg: element=6\n",
    "ls=[45,6,2,23,-3,0]\n",
    "ls.remove(6)\n",
    "print(ls)"
   ]
  },
  {
   "cell_type": "code",
   "execution_count": 13,
   "id": "0116ca70",
   "metadata": {},
   "outputs": [
    {
     "name": "stdout",
     "output_type": "stream",
     "text": [
      "[23, 65, 12, 3.5, 'hi', 45]\n"
     ]
    }
   ],
   "source": [
    "#v. delete more than 1 element using del \n",
    "ls=[23,35,-4,65,12,3.5,\"hi\",45]\n",
    "del ls[1:3]\n",
    "print(ls)"
   ]
  },
  {
   "cell_type": "code",
   "execution_count": 14,
   "id": "2540a070",
   "metadata": {},
   "outputs": [
    {
     "name": "stdout",
     "output_type": "stream",
     "text": [
      "[]\n"
     ]
    }
   ],
   "source": [
    "#vi. clear all elt from list\n",
    "ls=[23,35,-4,65,12,3.5,\"hi\",45]\n",
    "ls.clear()\n",
    "print(ls)"
   ]
  },
  {
   "cell_type": "code",
   "execution_count": 15,
   "id": "399228fb",
   "metadata": {},
   "outputs": [],
   "source": [
    "#vii.count the occurance of a elt in list\n",
    "ls=[1,2,4,2,34,45,2,12,6]"
   ]
  },
  {
   "cell_type": "code",
   "execution_count": 16,
   "id": "df68bd4d",
   "metadata": {},
   "outputs": [
    {
     "name": "stdout",
     "output_type": "stream",
     "text": [
      "['hello', 'how', 'are', 'you?']\n"
     ]
    }
   ],
   "source": [
    "#viii.\"hello how are you?\" convert this string into list\n",
    "string = \"hello how are you?\"\n",
    "lst = string.split()\n",
    "print(lst)"
   ]
  },
  {
   "cell_type": "code",
   "execution_count": 17,
   "id": "c9ee60a6",
   "metadata": {},
   "outputs": [],
   "source": [
    "#ix.splitting a date into dd,mm,yyyy\n",
    "d='06/02/2019'\n",
    "\n",
    "\n"
   ]
  },
  {
   "cell_type": "markdown",
   "id": "ba87efdb",
   "metadata": {},
   "source": [
    "### Use split finction to solve the above question"
   ]
  },
  {
   "cell_type": "code",
   "execution_count": 18,
   "id": "56126ec4",
   "metadata": {},
   "outputs": [
    {
     "name": "stdout",
     "output_type": "stream",
     "text": [
      "hello how are you\n"
     ]
    }
   ],
   "source": [
    "#Converting list into string\n",
    "ls=[\"hello\",\"how\", \"are\",\"you\"]\n",
    "string = \" \".join(ls)\n",
    "print(string)"
   ]
  },
  {
   "cell_type": "code",
   "execution_count": 19,
   "id": "4f220c58",
   "metadata": {},
   "outputs": [
    {
     "name": "stdout",
     "output_type": "stream",
     "text": [
      "20\n",
      "[0, 1, 2, 3, 4, 5, 6, 7, 8, 9, 10, 11, 12, 13, 14, 15, 16, 17, 18, 19, 20]\n"
     ]
    }
   ],
   "source": [
    "#2. Find average and std dev. of n integers.Procedure:\n",
    "\n",
    "n= int(input())\n",
    "ls = []\n",
    "for i in range(n+1):\n",
    "    ls.append(i)\n",
    "print(ls)"
   ]
  },
  {
   "cell_type": "code",
   "execution_count": 20,
   "id": "5326c280",
   "metadata": {},
   "outputs": [
    {
     "name": "stdout",
     "output_type": "stream",
     "text": [
      "10.0\n"
     ]
    }
   ],
   "source": [
    "#average\n",
    "avg = sum(ls)/len(ls)\n",
    "print(avg)"
   ]
  },
  {
   "cell_type": "code",
   "execution_count": 21,
   "id": "ccbe8306",
   "metadata": {},
   "outputs": [
    {
     "name": "stdout",
     "output_type": "stream",
     "text": [
      "6.2048368229954285\n"
     ]
    }
   ],
   "source": [
    "#Statistics\n",
    "import statistics\n",
    "std_dev = statistics.stdev(ls)\n",
    "print(std_dev)"
   ]
  },
  {
   "cell_type": "code",
   "execution_count": 22,
   "id": "203a4100",
   "metadata": {},
   "outputs": [
    {
     "name": "stdout",
     "output_type": "stream",
     "text": [
      "List is in ascending order\n"
     ]
    }
   ],
   "source": [
    "#(b) write a program to check if the list is in asc order\n",
    "ls_copy = ls[:]\n",
    "ls_copy.sort()\n",
    "\n",
    "if (ls == ls_copy):\n",
    "    print(\"List is in ascending order\")\n",
    "else:\n",
    "    print(\"List is not in ascending order\")"
   ]
  },
  {
   "cell_type": "markdown",
   "id": "34a1b3da",
   "metadata": {},
   "source": [
    "### Resolve "
   ]
  },
  {
   "cell_type": "markdown",
   "id": "95937bf8",
   "metadata": {},
   "source": [
    "# SET"
   ]
  },
  {
   "cell_type": "markdown",
   "id": "618b231f",
   "metadata": {},
   "source": [
    "# What is a set? Differnce between set and list?\n",
    "Set is used to store the multiple element in a single variable. It is one of the inbulit data types in python. Difference between set and list is list can contain duplicate value but set don't. "
   ]
  },
  {
   "cell_type": "code",
   "execution_count": 23,
   "id": "f8a2d6de",
   "metadata": {},
   "outputs": [],
   "source": [
    "set1 = {1,2,3,4,5}"
   ]
  },
  {
   "cell_type": "code",
   "execution_count": 24,
   "id": "4889b9aa",
   "metadata": {},
   "outputs": [
    {
     "name": "stdout",
     "output_type": "stream",
     "text": [
      "{1, 2, 3, 4, 5, 6}\n"
     ]
    }
   ],
   "source": [
    "#Add an element in the set\n",
    "set1.add(6)\n",
    "print(set1)"
   ]
  },
  {
   "cell_type": "code",
   "execution_count": 25,
   "id": "f74be7d6",
   "metadata": {},
   "outputs": [
    {
     "name": "stdout",
     "output_type": "stream",
     "text": [
      "{1, 2, 3, 4, 5}\n"
     ]
    }
   ],
   "source": [
    "#Remove an element from the set\n",
    "set1.remove(6)\n",
    "print(set1)"
   ]
  },
  {
   "cell_type": "code",
   "execution_count": 26,
   "id": "4ff73bdf",
   "metadata": {},
   "outputs": [
    {
     "name": "stdout",
     "output_type": "stream",
     "text": [
      "{1, 2, 3, 4, 5, 6, 7, 8}\n"
     ]
    }
   ],
   "source": [
    "#Add more than 1 element in the set\n",
    "ls = [6,7,8]\n",
    "for i in ls:\n",
    "    set1.add(i)\n",
    "print(set1)"
   ]
  },
  {
   "cell_type": "code",
   "execution_count": 27,
   "id": "e11fad76",
   "metadata": {},
   "outputs": [
    {
     "data": {
      "text/plain": [
       "1"
      ]
     },
     "execution_count": 27,
     "metadata": {},
     "output_type": "execute_result"
    }
   ],
   "source": [
    "#Extract any element from the set\n",
    "set1.pop()"
   ]
  },
  {
   "cell_type": "code",
   "execution_count": 28,
   "id": "59e86753",
   "metadata": {},
   "outputs": [
    {
     "name": "stdout",
     "output_type": "stream",
     "text": [
      "[1, 2, 3, 4, 5, 6, 7, 8]\n"
     ]
    }
   ],
   "source": [
    "#2. Write a program to remove the duplicates from the list and a single copy of each element\n",
    "ls = [1,1,1,2,2,2,3,4,4,5,6,7,8]\n",
    "set1 = set(ls)\n",
    "ls1 = list(set1)\n",
    "print(ls1)"
   ]
  },
  {
   "cell_type": "markdown",
   "id": "39c6caa1",
   "metadata": {},
   "source": [
    "# Tuple"
   ]
  },
  {
   "cell_type": "markdown",
   "id": "cee0401d",
   "metadata": {},
   "source": [
    "# What is a tuple?\n",
    "Tuple is one of the data type in python. Tuple are used to store the multiple element in a single Variable. Tuple are immutable."
   ]
  },
  {
   "cell_type": "code",
   "execution_count": 29,
   "id": "9429d934",
   "metadata": {},
   "outputs": [],
   "source": [
    "tup1 = (1,\"hi\",34,2.5,45,21)"
   ]
  },
  {
   "cell_type": "code",
   "execution_count": 30,
   "id": "6ef314b2",
   "metadata": {},
   "outputs": [
    {
     "data": {
      "text/plain": [
       "(1, 'hi', 34, 2.5, 45, 21)"
      ]
     },
     "execution_count": 30,
     "metadata": {},
     "output_type": "execute_result"
    }
   ],
   "source": [
    "tup1"
   ]
  },
  {
   "cell_type": "code",
   "execution_count": 31,
   "id": "ce806906",
   "metadata": {},
   "outputs": [
    {
     "name": "stdout",
     "output_type": "stream",
     "text": [
      "(1, 'hello', 34, 2.5, 45, 21)\n"
     ]
    }
   ],
   "source": [
    "# Changing \"hi\" to \"hello\"\n",
    "list1 = list(tup1)\n",
    "list1[1] = \"hello\"\n",
    "tup1 = tuple(list1)\n",
    "print(tup1)"
   ]
  },
  {
   "cell_type": "code",
   "execution_count": 32,
   "id": "c3348064",
   "metadata": {},
   "outputs": [
    {
     "data": {
      "text/plain": [
       "(1,)"
      ]
     },
     "execution_count": 32,
     "metadata": {},
     "output_type": "execute_result"
    }
   ],
   "source": [
    "#Create a tuple with single element\n",
    "tup = (1,)\n",
    "tup"
   ]
  },
  {
   "cell_type": "code",
   "execution_count": 33,
   "id": "ecbd00b1",
   "metadata": {},
   "outputs": [
    {
     "data": {
      "text/plain": [
       "34"
      ]
     },
     "execution_count": 33,
     "metadata": {},
     "output_type": "execute_result"
    }
   ],
   "source": [
    "#Extracting value from tuple using indexing\n",
    "tup1[2]"
   ]
  },
  {
   "cell_type": "code",
   "execution_count": 34,
   "id": "f7c32170",
   "metadata": {},
   "outputs": [
    {
     "data": {
      "text/plain": [
       "('hello', 34)"
      ]
     },
     "execution_count": 34,
     "metadata": {},
     "output_type": "execute_result"
    }
   ],
   "source": [
    "#slicing tuple\n",
    "tup1[1:3]"
   ]
  },
  {
   "cell_type": "code",
   "execution_count": 35,
   "id": "3f40f58e",
   "metadata": {},
   "outputs": [],
   "source": [
    "#(d) multiple assignments using tuple"
   ]
  },
  {
   "cell_type": "markdown",
   "id": "290c6651",
   "metadata": {},
   "source": [
    "# Dictionary"
   ]
  },
  {
   "cell_type": "code",
   "execution_count": 36,
   "id": "5b483736",
   "metadata": {},
   "outputs": [
    {
     "name": "stdout",
     "output_type": "stream",
     "text": [
      "{}\n"
     ]
    },
    {
     "data": {
      "text/plain": [
       "dict"
      ]
     },
     "execution_count": 36,
     "metadata": {},
     "output_type": "execute_result"
    }
   ],
   "source": [
    "#Creating empty dictionary\n",
    "dict1 = {}\n",
    "print(dict1)\n",
    "type(dict1)"
   ]
  },
  {
   "cell_type": "code",
   "execution_count": 37,
   "id": "27c37b08",
   "metadata": {},
   "outputs": [],
   "source": [
    "#adding item to the dictionary\n",
    "dict1.update({\"Fruits\" : \"Banana\"})"
   ]
  },
  {
   "cell_type": "code",
   "execution_count": 38,
   "id": "423b576b",
   "metadata": {},
   "outputs": [
    {
     "data": {
      "text/plain": [
       "{'Fruits': 'Banana'}"
      ]
     },
     "execution_count": 38,
     "metadata": {},
     "output_type": "execute_result"
    }
   ],
   "source": [
    "dict1"
   ]
  },
  {
   "cell_type": "code",
   "execution_count": 39,
   "id": "15f1af7a",
   "metadata": {},
   "outputs": [],
   "source": [
    "#modifying one value\n",
    "dict1[\"Fruits\"] = \"Apple\""
   ]
  },
  {
   "cell_type": "code",
   "execution_count": 40,
   "id": "91d7db7a",
   "metadata": {},
   "outputs": [
    {
     "data": {
      "text/plain": [
       "{'Fruits': 'Apple'}"
      ]
     },
     "execution_count": 40,
     "metadata": {},
     "output_type": "execute_result"
    }
   ],
   "source": [
    "dict1"
   ]
  },
  {
   "cell_type": "code",
   "execution_count": 41,
   "id": "66e29f37",
   "metadata": {},
   "outputs": [
    {
     "name": "stdout",
     "output_type": "stream",
     "text": [
      "{'H': 1, 'e': 1, 'l': 2, 'o': 1}\n"
     ]
    }
   ],
   "source": [
    "#2.Write a program to read a string.Count number of occurance of each character in the string using dictionary:\n",
    "\n",
    "string = \"Hello\"\n",
    "\n",
    "occurance = {}\n",
    "\n",
    "for i in string:\n",
    "    if i in occurance:\n",
    "        occurance[i] +=1\n",
    "    else:\n",
    "        occurance[i] = 1\n",
    "        \n",
    "print(occurance)"
   ]
  },
  {
   "cell_type": "markdown",
   "id": "19e85be8",
   "metadata": {},
   "source": [
    "# Module-2 Basic Programming"
   ]
  },
  {
   "cell_type": "code",
   "execution_count": 42,
   "id": "72b97833",
   "metadata": {},
   "outputs": [
    {
     "name": "stdout",
     "output_type": "stream",
     "text": [
      "47\n"
     ]
    }
   ],
   "source": [
    "# For loops\n",
    "# 2.Write a python program to find sum of positive elements \n",
    "list1 = [8,4,3,-1,4,8,-2,6,2,3,9]\n",
    "s = 0\n",
    "for i in list1:\n",
    "    if i> 0 :\n",
    "        s = s + i\n",
    "print(s)    "
   ]
  },
  {
   "cell_type": "code",
   "execution_count": 31,
   "id": "28d9924a",
   "metadata": {},
   "outputs": [
    {
     "name": "stdout",
     "output_type": "stream",
     "text": [
      "0 0 0\n",
      "0 0 1\n",
      "0 1 0\n",
      "0 1 1\n",
      "0 2 0\n",
      "0 2 1\n",
      "0 3 0\n",
      "0 3 1\n",
      "1 0 0\n",
      "1 0 1\n",
      "1 1 0\n",
      "1 1 1\n",
      "1 2 0\n",
      "1 2 1\n",
      "1 3 0\n",
      "1 3 1\n",
      "2 0 0\n",
      "2 0 1\n",
      "2 1 0\n",
      "2 1 1\n",
      "2 2 0\n",
      "2 2 1\n",
      "2 3 0\n",
      "2 3 1\n"
     ]
    }
   ],
   "source": [
    "# 1.Write a python program with for loop to get output:( 0 0 0 )( 0 0 1 )( 0 1 0 )( 0 1 1 )( 0 2 0 )( 0 2 1 )( 0 3 0 )( 0 3 1 )( 1 0 0 )( 1 0 1 )( 1 1 0 )( 1 1 1 )( 1 2 0 )( 12 1 )( 1 3 0 )( 1 3 1 )( 2 0 0 )( 2 0 1 )( 2 1 0 )( 2 1 1 )( 2 2 0 )( 2 2 1 )( 2 3 0 )( 2 3 1 )\n",
    "\n",
    "for i in range(0,3):\n",
    "    for j in range(0,4):\n",
    "        for k in range(0,2):\n",
    "            print(i,j,k)\n"
   ]
  },
  {
   "cell_type": "code",
   "execution_count": 44,
   "id": "1860d53d",
   "metadata": {},
   "outputs": [
    {
     "name": "stdout",
     "output_type": "stream",
     "text": [
      "Enter a guess between 1 to 91\n",
      "No, it is a little higher than that.\n",
      "Enter a guess between 1 to 92\n",
      "No, it is a little higher than that.\n",
      "Enter a guess between 1 to 93\n",
      "No, it is a little higher than that.\n",
      "Enter a guess between 1 to 94\n",
      "No, it is a little higher than that.\n",
      "Enter a guess between 1 to 95\n",
      "No, it is a little higher than that.\n",
      "Enter a guess between 1 to 96\n",
      "No, it is a little higher than that.\n",
      "Enter a guess between 1 to 97\n",
      "No, it is a little higher than that.\n",
      "Enter a guess between 1 to 98\n",
      "No, it is a little higher than that.\n",
      "Enter a guess between 1 to 99\n",
      "Congratulations, you guessed it\n",
      "9\n"
     ]
    },
    {
     "data": {
      "text/plain": [
       "'9'"
      ]
     },
     "execution_count": 44,
     "metadata": {},
     "output_type": "execute_result"
    }
   ],
   "source": [
    "#While Loops\n",
    "#Write a python program until the number is guessed and give the output as:\n",
    "#a. If guessed correctly: ’Congratulations, you guessed it’\n",
    "#b. If guessed no. is greater:’ No, it is a little lower than that.’\n",
    "#c. If guessed no. is lower:’ No, it is a little higher than that.’\n",
    "\n",
    "import random\n",
    "\n",
    "rd = random.randint(1,9)\n",
    "guess = 0\n",
    "\n",
    "while guess != rd:\n",
    "    guess = input(\"Enter a guess between 1 to 9\")\n",
    "\n",
    "\n",
    "    guess = int(guess)\n",
    "\n",
    "    if guess < rd:\n",
    "        print(\"No, it is a little higher than that.\")\n",
    "    elif guess > rd:\n",
    "        print(\"No, it is a little lower than that\")\n",
    "    else:\n",
    "        print(\"Congratulations, you guessed it\")\n",
    "        \n",
    "input()"
   ]
  },
  {
   "cell_type": "code",
   "execution_count": 45,
   "id": "613c457f",
   "metadata": {},
   "outputs": [
    {
     "name": "stdout",
     "output_type": "stream",
     "text": [
      "20\n",
      "Number is not a prime number\n"
     ]
    }
   ],
   "source": [
    "#Write a python program using for loop to find if a number is prime or not (Use the concept of Sieve of Eratosthenes)\n",
    "\n",
    "num = int(input())\n",
    "flag = False\n",
    "\n",
    "for i in range(2,num):\n",
    "    if (num%i) == 0:\n",
    "        flag = True\n",
    "        break\n",
    "    \n",
    "    \n",
    "        \n",
    "if flag:\n",
    "    print(\"Number is not a prime number\")\n",
    "else:\n",
    "    print(\"Number is a prime number\")\n",
    "    "
   ]
  },
  {
   "cell_type": "markdown",
   "id": "0139764c",
   "metadata": {},
   "source": [
    "# Conditions"
   ]
  },
  {
   "cell_type": "markdown",
   "id": "fecfeef4",
   "metadata": {},
   "source": [
    "1. Write a program that takes user input in integer and stores it in variable marks and then\n",
    "categorizes it as:\n",
    "a. Distinction: when marks &gt;= 75\n",
    "b. First Class: when marks &gt;=60 and &lt;75\n",
    "c. Second Class: when marks &gt;=50 and &lt;60\n",
    "d. Pass: when marks &gt;=40 and &lt;50\n",
    "e. Fail: when marks&lt;40\n"
   ]
  },
  {
   "cell_type": "code",
   "execution_count": 46,
   "id": "d9644525",
   "metadata": {},
   "outputs": [
    {
     "name": "stdout",
     "output_type": "stream",
     "text": [
      "34\n",
      "Fail\n"
     ]
    }
   ],
   "source": [
    "marks = int(input())\n",
    "\n",
    "if marks >= 75:\n",
    "    print(\"Distinction\")\n",
    "elif marks >= 60 and marks <75:\n",
    "    print(\"First Class\")\n",
    "elif marks >= 50 and marks < 60:\n",
    "    print(\"Second Class\")\n",
    "elif marks >= 40 and marks <50:\n",
    "    print(\"Pass\")\n",
    "else:\n",
    "    print(\"Fail\")"
   ]
  },
  {
   "cell_type": "markdown",
   "id": "3d26baef",
   "metadata": {},
   "source": [
    "2. Take 3 numeric inputs and find the greatest value. Like if var1 is greater than var2 then it checks\n",
    "if var1 is also greater than var3."
   ]
  },
  {
   "cell_type": "code",
   "execution_count": 47,
   "id": "c8185ea1",
   "metadata": {},
   "outputs": [
    {
     "name": "stdout",
     "output_type": "stream",
     "text": [
      "34\n",
      "40\n",
      "56\n",
      "var3 is the greatest value\n"
     ]
    }
   ],
   "source": [
    "var1 = int(input())\n",
    "var2 = int(input())\n",
    "var3 = int(input())\n",
    "\n",
    "if var1 > var2 and var1 > var3:\n",
    "    print(\"var1 is the greatest value\")\n",
    "elif var2> var1 and var2> var3:\n",
    "    print(\"var2 is the greatest value\")\n",
    "else:\n",
    "    print(\"var3 is the greatest value\")\n",
    "    "
   ]
  },
  {
   "cell_type": "markdown",
   "id": "7747c0ba",
   "metadata": {},
   "source": [
    "5. Write a python program to find the Area of the triangle also check if the sides entered can create\n",
    "a triangle or not give the result as “sides entered do not form a triangle” if it is not from the\n",
    "triangle"
   ]
  },
  {
   "cell_type": "code",
   "execution_count": 48,
   "id": "9008ab05",
   "metadata": {},
   "outputs": [
    {
     "name": "stdout",
     "output_type": "stream",
     "text": [
      "Enter First side:2\n",
      "Enter Second side:3\n",
      "Enter third side:4\n",
      "Area of traingle = 2.9047375096555625\n",
      "Sides entered form a triangle\n"
     ]
    }
   ],
   "source": [
    "a = int(input(\"Enter First side:\"))\n",
    "b = int(input(\"Enter Second side:\"))\n",
    "c = int(input(\"Enter third side:\"))\n",
    "\n",
    "s= (a+b+c)/2\n",
    "area = (s*(s-a)*(s-b)*(s-c))**0.5\n",
    "\n",
    "print(\"Area of traingle =\",area)\n",
    "\n",
    "if a+b>c and a+c>b and b+c>a:\n",
    "    print(\"Sides entered form a triangle\")\n",
    "else:\n",
    "    print(\"Sides entered do not form a triangle\")"
   ]
  },
  {
   "cell_type": "markdown",
   "id": "b5648451",
   "metadata": {},
   "source": [
    "# Module-3– User Defined Function"
   ]
  },
  {
   "cell_type": "markdown",
   "id": "04079ea3",
   "metadata": {},
   "source": [
    "1.Write a function is_reverse (string1, string2) to return true if string1 is the reverse of string2:"
   ]
  },
  {
   "cell_type": "code",
   "execution_count": 49,
   "id": "d30c8a49",
   "metadata": {},
   "outputs": [],
   "source": [
    "def is_reserve(string1, string2):\n",
    "    if string1 == string2[::-1]:\n",
    "        return True\n",
    "    else:\n",
    "        return False\n",
    "    "
   ]
  },
  {
   "cell_type": "code",
   "execution_count": 50,
   "id": "26b73d86",
   "metadata": {},
   "outputs": [
    {
     "data": {
      "text/plain": [
       "True"
      ]
     },
     "execution_count": 50,
     "metadata": {},
     "output_type": "execute_result"
    }
   ],
   "source": [
    "is_reserve(\"stop\",\"pots\")"
   ]
  },
  {
   "cell_type": "code",
   "execution_count": 51,
   "id": "70e4eb51",
   "metadata": {},
   "outputs": [
    {
     "data": {
      "text/plain": [
       "False"
      ]
     },
     "execution_count": 51,
     "metadata": {},
     "output_type": "execute_result"
    }
   ],
   "source": [
    "is_reserve(\"stop\",\"stop\")"
   ]
  },
  {
   "cell_type": "markdown",
   "id": "2456efe9",
   "metadata": {},
   "source": [
    "2. Write a Python code to check whether the given number is strong. Strong Numbers are numbers\n",
    "whose sum of the factorial of digits is equal to the original number (Example: 145 = 1! +4! + 5!)."
   ]
  },
  {
   "cell_type": "code",
   "execution_count": 52,
   "id": "6eadef54",
   "metadata": {},
   "outputs": [],
   "source": [
    "def strong_number(a):\n",
    "    a_copy = a\n",
    "    s= 0\n",
    "    while(a):\n",
    "        i =1\n",
    "        fact  = 1\n",
    "        rem = a%10\n",
    "        while(i<= rem):\n",
    "            fact = fact*i\n",
    "            i = i+1\n",
    "        s = s+ fact\n",
    "        a = a//10\n",
    "    if(s == a_copy):\n",
    "        print(\"The number is a strong number\")\n",
    "    else:\n",
    "        print(\"The number is not a strong number\")\n",
    "        \n",
    "            "
   ]
  },
  {
   "cell_type": "code",
   "execution_count": 53,
   "id": "03921fe0",
   "metadata": {},
   "outputs": [
    {
     "name": "stdout",
     "output_type": "stream",
     "text": [
      "The number is a strong number\n"
     ]
    }
   ],
   "source": [
    "strong_number(145)"
   ]
  },
  {
   "cell_type": "code",
   "execution_count": 54,
   "id": "cc8a13fe",
   "metadata": {},
   "outputs": [
    {
     "name": "stdout",
     "output_type": "stream",
     "text": [
      "The number is not a strong number\n"
     ]
    }
   ],
   "source": [
    "strong_number(222)"
   ]
  },
  {
   "cell_type": "markdown",
   "id": "497dcc0e",
   "metadata": {},
   "source": [
    "# Apply Function"
   ]
  },
  {
   "cell_type": "markdown",
   "id": "e370adc1",
   "metadata": {},
   "source": [
    "1. Write a program to increase the rating by one of the films is a thriller, but only if the IMDB rating\n",
    "is less than or equal to 10. Also, if the film is a comedy, deduct one point from the ranking. Use\n",
    "Dataframe: IMDB-Movie-Data"
   ]
  },
  {
   "cell_type": "code",
   "execution_count": 2,
   "id": "a63b411d",
   "metadata": {},
   "outputs": [],
   "source": [
    "import numpy as np\n",
    "import pandas as pd"
   ]
  },
  {
   "cell_type": "code",
   "execution_count": 56,
   "id": "6349b01f",
   "metadata": {
    "scrolled": false
   },
   "outputs": [],
   "source": [
    "df = pd.read_csv(\"IMDB-Movie-Data.csv\")"
   ]
  },
  {
   "cell_type": "code",
   "execution_count": 57,
   "id": "164a0b90",
   "metadata": {},
   "outputs": [
    {
     "data": {
      "text/plain": [
       "(1000, 12)"
      ]
     },
     "execution_count": 57,
     "metadata": {},
     "output_type": "execute_result"
    }
   ],
   "source": [
    "df.shape"
   ]
  },
  {
   "cell_type": "code",
   "execution_count": 58,
   "id": "0dfadede",
   "metadata": {
    "scrolled": false
   },
   "outputs": [
    {
     "data": {
      "text/html": [
       "<div>\n",
       "<style scoped>\n",
       "    .dataframe tbody tr th:only-of-type {\n",
       "        vertical-align: middle;\n",
       "    }\n",
       "\n",
       "    .dataframe tbody tr th {\n",
       "        vertical-align: top;\n",
       "    }\n",
       "\n",
       "    .dataframe thead th {\n",
       "        text-align: right;\n",
       "    }\n",
       "</style>\n",
       "<table border=\"1\" class=\"dataframe\">\n",
       "  <thead>\n",
       "    <tr style=\"text-align: right;\">\n",
       "      <th></th>\n",
       "      <th>Rank</th>\n",
       "      <th>Title</th>\n",
       "      <th>Genre</th>\n",
       "      <th>Description</th>\n",
       "      <th>Director</th>\n",
       "      <th>Actors</th>\n",
       "      <th>Year</th>\n",
       "      <th>Runtime (Minutes)</th>\n",
       "      <th>Rating</th>\n",
       "      <th>Votes</th>\n",
       "      <th>Revenue (Millions)</th>\n",
       "      <th>Metascore</th>\n",
       "    </tr>\n",
       "  </thead>\n",
       "  <tbody>\n",
       "    <tr>\n",
       "      <th>0</th>\n",
       "      <td>1</td>\n",
       "      <td>Guardians of the Galaxy</td>\n",
       "      <td>Action,Adventure,Sci-Fi</td>\n",
       "      <td>A group of intergalactic criminals are forced ...</td>\n",
       "      <td>James Gunn</td>\n",
       "      <td>Chris Pratt, Vin Diesel, Bradley Cooper, Zoe S...</td>\n",
       "      <td>2014</td>\n",
       "      <td>121</td>\n",
       "      <td>8.1</td>\n",
       "      <td>757074</td>\n",
       "      <td>333.13</td>\n",
       "      <td>76.0</td>\n",
       "    </tr>\n",
       "    <tr>\n",
       "      <th>1</th>\n",
       "      <td>2</td>\n",
       "      <td>Prometheus</td>\n",
       "      <td>Adventure,Mystery,Sci-Fi</td>\n",
       "      <td>Following clues to the origin of mankind, a te...</td>\n",
       "      <td>Ridley Scott</td>\n",
       "      <td>Noomi Rapace, Logan Marshall-Green, Michael Fa...</td>\n",
       "      <td>2012</td>\n",
       "      <td>124</td>\n",
       "      <td>7.0</td>\n",
       "      <td>485820</td>\n",
       "      <td>126.46</td>\n",
       "      <td>65.0</td>\n",
       "    </tr>\n",
       "    <tr>\n",
       "      <th>2</th>\n",
       "      <td>3</td>\n",
       "      <td>Split</td>\n",
       "      <td>Horror,Thriller</td>\n",
       "      <td>Three girls are kidnapped by a man with a diag...</td>\n",
       "      <td>M. Night Shyamalan</td>\n",
       "      <td>James McAvoy, Anya Taylor-Joy, Haley Lu Richar...</td>\n",
       "      <td>2016</td>\n",
       "      <td>117</td>\n",
       "      <td>7.3</td>\n",
       "      <td>157606</td>\n",
       "      <td>138.12</td>\n",
       "      <td>62.0</td>\n",
       "    </tr>\n",
       "    <tr>\n",
       "      <th>3</th>\n",
       "      <td>4</td>\n",
       "      <td>Sing</td>\n",
       "      <td>Animation,Comedy,Family</td>\n",
       "      <td>In a city of humanoid animals, a hustling thea...</td>\n",
       "      <td>Christophe Lourdelet</td>\n",
       "      <td>Matthew McConaughey,Reese Witherspoon, Seth Ma...</td>\n",
       "      <td>2016</td>\n",
       "      <td>108</td>\n",
       "      <td>7.2</td>\n",
       "      <td>60545</td>\n",
       "      <td>270.32</td>\n",
       "      <td>59.0</td>\n",
       "    </tr>\n",
       "    <tr>\n",
       "      <th>4</th>\n",
       "      <td>5</td>\n",
       "      <td>Suicide Squad</td>\n",
       "      <td>Action,Adventure,Fantasy</td>\n",
       "      <td>A secret government agency recruits some of th...</td>\n",
       "      <td>David Ayer</td>\n",
       "      <td>Will Smith, Jared Leto, Margot Robbie, Viola D...</td>\n",
       "      <td>2016</td>\n",
       "      <td>123</td>\n",
       "      <td>6.2</td>\n",
       "      <td>393727</td>\n",
       "      <td>325.02</td>\n",
       "      <td>40.0</td>\n",
       "    </tr>\n",
       "  </tbody>\n",
       "</table>\n",
       "</div>"
      ],
      "text/plain": [
       "   Rank                    Title                     Genre  \\\n",
       "0     1  Guardians of the Galaxy   Action,Adventure,Sci-Fi   \n",
       "1     2               Prometheus  Adventure,Mystery,Sci-Fi   \n",
       "2     3                    Split           Horror,Thriller   \n",
       "3     4                     Sing   Animation,Comedy,Family   \n",
       "4     5            Suicide Squad  Action,Adventure,Fantasy   \n",
       "\n",
       "                                         Description              Director  \\\n",
       "0  A group of intergalactic criminals are forced ...            James Gunn   \n",
       "1  Following clues to the origin of mankind, a te...          Ridley Scott   \n",
       "2  Three girls are kidnapped by a man with a diag...    M. Night Shyamalan   \n",
       "3  In a city of humanoid animals, a hustling thea...  Christophe Lourdelet   \n",
       "4  A secret government agency recruits some of th...            David Ayer   \n",
       "\n",
       "                                              Actors  Year  Runtime (Minutes)  \\\n",
       "0  Chris Pratt, Vin Diesel, Bradley Cooper, Zoe S...  2014                121   \n",
       "1  Noomi Rapace, Logan Marshall-Green, Michael Fa...  2012                124   \n",
       "2  James McAvoy, Anya Taylor-Joy, Haley Lu Richar...  2016                117   \n",
       "3  Matthew McConaughey,Reese Witherspoon, Seth Ma...  2016                108   \n",
       "4  Will Smith, Jared Leto, Margot Robbie, Viola D...  2016                123   \n",
       "\n",
       "   Rating   Votes  Revenue (Millions)  Metascore  \n",
       "0     8.1  757074              333.13       76.0  \n",
       "1     7.0  485820              126.46       65.0  \n",
       "2     7.3  157606              138.12       62.0  \n",
       "3     7.2   60545              270.32       59.0  \n",
       "4     6.2  393727              325.02       40.0  "
      ]
     },
     "execution_count": 58,
     "metadata": {},
     "output_type": "execute_result"
    }
   ],
   "source": [
    "df.head()"
   ]
  },
  {
   "cell_type": "code",
   "execution_count": 59,
   "id": "6b6f5613",
   "metadata": {
    "scrolled": false
   },
   "outputs": [
    {
     "name": "stdout",
     "output_type": "stream",
     "text": [
      "<class 'pandas.core.frame.DataFrame'>\n",
      "RangeIndex: 1000 entries, 0 to 999\n",
      "Data columns (total 12 columns):\n",
      " #   Column              Non-Null Count  Dtype  \n",
      "---  ------              --------------  -----  \n",
      " 0   Rank                1000 non-null   int64  \n",
      " 1   Title               1000 non-null   object \n",
      " 2   Genre               1000 non-null   object \n",
      " 3   Description         1000 non-null   object \n",
      " 4   Director            1000 non-null   object \n",
      " 5   Actors              1000 non-null   object \n",
      " 6   Year                1000 non-null   int64  \n",
      " 7   Runtime (Minutes)   1000 non-null   int64  \n",
      " 8   Rating              1000 non-null   float64\n",
      " 9   Votes               1000 non-null   int64  \n",
      " 10  Revenue (Millions)  872 non-null    float64\n",
      " 11  Metascore           936 non-null    float64\n",
      "dtypes: float64(3), int64(4), object(5)\n",
      "memory usage: 93.9+ KB\n"
     ]
    }
   ],
   "source": [
    "df.info()"
   ]
  },
  {
   "cell_type": "code",
   "execution_count": 60,
   "id": "f98f7928",
   "metadata": {},
   "outputs": [],
   "source": [
    "def new_rating(genre, rating):\n",
    "    if \"Thriller\" in genre and rating <=10:\n",
    "        return(rating + 1)\n",
    "    elif \"Comedy\" in genre:\n",
    "        return(rating -1)\n",
    "    else:\n",
    "        return rating\n",
    "    "
   ]
  },
  {
   "cell_type": "code",
   "execution_count": 61,
   "id": "8e418ed7",
   "metadata": {
    "scrolled": false
   },
   "outputs": [],
   "source": [
    "df[\"New_rating\"] = df.apply(lambda x: new_rating(x[\"Genre\"],x[\"Rating\"]), axis = 1)"
   ]
  },
  {
   "cell_type": "code",
   "execution_count": 62,
   "id": "efd8f5b6",
   "metadata": {
    "scrolled": true
   },
   "outputs": [
    {
     "data": {
      "text/html": [
       "<div>\n",
       "<style scoped>\n",
       "    .dataframe tbody tr th:only-of-type {\n",
       "        vertical-align: middle;\n",
       "    }\n",
       "\n",
       "    .dataframe tbody tr th {\n",
       "        vertical-align: top;\n",
       "    }\n",
       "\n",
       "    .dataframe thead th {\n",
       "        text-align: right;\n",
       "    }\n",
       "</style>\n",
       "<table border=\"1\" class=\"dataframe\">\n",
       "  <thead>\n",
       "    <tr style=\"text-align: right;\">\n",
       "      <th></th>\n",
       "      <th>Rank</th>\n",
       "      <th>Title</th>\n",
       "      <th>Genre</th>\n",
       "      <th>Description</th>\n",
       "      <th>Director</th>\n",
       "      <th>Actors</th>\n",
       "      <th>Year</th>\n",
       "      <th>Runtime (Minutes)</th>\n",
       "      <th>Rating</th>\n",
       "      <th>Votes</th>\n",
       "      <th>Revenue (Millions)</th>\n",
       "      <th>Metascore</th>\n",
       "      <th>New_rating</th>\n",
       "    </tr>\n",
       "  </thead>\n",
       "  <tbody>\n",
       "    <tr>\n",
       "      <th>0</th>\n",
       "      <td>1</td>\n",
       "      <td>Guardians of the Galaxy</td>\n",
       "      <td>Action,Adventure,Sci-Fi</td>\n",
       "      <td>A group of intergalactic criminals are forced ...</td>\n",
       "      <td>James Gunn</td>\n",
       "      <td>Chris Pratt, Vin Diesel, Bradley Cooper, Zoe S...</td>\n",
       "      <td>2014</td>\n",
       "      <td>121</td>\n",
       "      <td>8.1</td>\n",
       "      <td>757074</td>\n",
       "      <td>333.13</td>\n",
       "      <td>76.0</td>\n",
       "      <td>8.1</td>\n",
       "    </tr>\n",
       "    <tr>\n",
       "      <th>1</th>\n",
       "      <td>2</td>\n",
       "      <td>Prometheus</td>\n",
       "      <td>Adventure,Mystery,Sci-Fi</td>\n",
       "      <td>Following clues to the origin of mankind, a te...</td>\n",
       "      <td>Ridley Scott</td>\n",
       "      <td>Noomi Rapace, Logan Marshall-Green, Michael Fa...</td>\n",
       "      <td>2012</td>\n",
       "      <td>124</td>\n",
       "      <td>7.0</td>\n",
       "      <td>485820</td>\n",
       "      <td>126.46</td>\n",
       "      <td>65.0</td>\n",
       "      <td>7.0</td>\n",
       "    </tr>\n",
       "    <tr>\n",
       "      <th>2</th>\n",
       "      <td>3</td>\n",
       "      <td>Split</td>\n",
       "      <td>Horror,Thriller</td>\n",
       "      <td>Three girls are kidnapped by a man with a diag...</td>\n",
       "      <td>M. Night Shyamalan</td>\n",
       "      <td>James McAvoy, Anya Taylor-Joy, Haley Lu Richar...</td>\n",
       "      <td>2016</td>\n",
       "      <td>117</td>\n",
       "      <td>7.3</td>\n",
       "      <td>157606</td>\n",
       "      <td>138.12</td>\n",
       "      <td>62.0</td>\n",
       "      <td>8.3</td>\n",
       "    </tr>\n",
       "    <tr>\n",
       "      <th>3</th>\n",
       "      <td>4</td>\n",
       "      <td>Sing</td>\n",
       "      <td>Animation,Comedy,Family</td>\n",
       "      <td>In a city of humanoid animals, a hustling thea...</td>\n",
       "      <td>Christophe Lourdelet</td>\n",
       "      <td>Matthew McConaughey,Reese Witherspoon, Seth Ma...</td>\n",
       "      <td>2016</td>\n",
       "      <td>108</td>\n",
       "      <td>7.2</td>\n",
       "      <td>60545</td>\n",
       "      <td>270.32</td>\n",
       "      <td>59.0</td>\n",
       "      <td>6.2</td>\n",
       "    </tr>\n",
       "    <tr>\n",
       "      <th>4</th>\n",
       "      <td>5</td>\n",
       "      <td>Suicide Squad</td>\n",
       "      <td>Action,Adventure,Fantasy</td>\n",
       "      <td>A secret government agency recruits some of th...</td>\n",
       "      <td>David Ayer</td>\n",
       "      <td>Will Smith, Jared Leto, Margot Robbie, Viola D...</td>\n",
       "      <td>2016</td>\n",
       "      <td>123</td>\n",
       "      <td>6.2</td>\n",
       "      <td>393727</td>\n",
       "      <td>325.02</td>\n",
       "      <td>40.0</td>\n",
       "      <td>6.2</td>\n",
       "    </tr>\n",
       "    <tr>\n",
       "      <th>...</th>\n",
       "      <td>...</td>\n",
       "      <td>...</td>\n",
       "      <td>...</td>\n",
       "      <td>...</td>\n",
       "      <td>...</td>\n",
       "      <td>...</td>\n",
       "      <td>...</td>\n",
       "      <td>...</td>\n",
       "      <td>...</td>\n",
       "      <td>...</td>\n",
       "      <td>...</td>\n",
       "      <td>...</td>\n",
       "      <td>...</td>\n",
       "    </tr>\n",
       "    <tr>\n",
       "      <th>995</th>\n",
       "      <td>996</td>\n",
       "      <td>Secret in Their Eyes</td>\n",
       "      <td>Crime,Drama,Mystery</td>\n",
       "      <td>A tight-knit team of rising investigators, alo...</td>\n",
       "      <td>Billy Ray</td>\n",
       "      <td>Chiwetel Ejiofor, Nicole Kidman, Julia Roberts...</td>\n",
       "      <td>2015</td>\n",
       "      <td>111</td>\n",
       "      <td>6.2</td>\n",
       "      <td>27585</td>\n",
       "      <td>NaN</td>\n",
       "      <td>45.0</td>\n",
       "      <td>6.2</td>\n",
       "    </tr>\n",
       "    <tr>\n",
       "      <th>996</th>\n",
       "      <td>997</td>\n",
       "      <td>Hostel: Part II</td>\n",
       "      <td>Horror</td>\n",
       "      <td>Three American college students studying abroa...</td>\n",
       "      <td>Eli Roth</td>\n",
       "      <td>Lauren German, Heather Matarazzo, Bijou Philli...</td>\n",
       "      <td>2007</td>\n",
       "      <td>94</td>\n",
       "      <td>5.5</td>\n",
       "      <td>73152</td>\n",
       "      <td>17.54</td>\n",
       "      <td>46.0</td>\n",
       "      <td>5.5</td>\n",
       "    </tr>\n",
       "    <tr>\n",
       "      <th>997</th>\n",
       "      <td>998</td>\n",
       "      <td>Step Up 2: The Streets</td>\n",
       "      <td>Drama,Music,Romance</td>\n",
       "      <td>Romantic sparks occur between two dance studen...</td>\n",
       "      <td>Jon M. Chu</td>\n",
       "      <td>Robert Hoffman, Briana Evigan, Cassie Ventura,...</td>\n",
       "      <td>2008</td>\n",
       "      <td>98</td>\n",
       "      <td>6.2</td>\n",
       "      <td>70699</td>\n",
       "      <td>58.01</td>\n",
       "      <td>50.0</td>\n",
       "      <td>6.2</td>\n",
       "    </tr>\n",
       "    <tr>\n",
       "      <th>998</th>\n",
       "      <td>999</td>\n",
       "      <td>Search Party</td>\n",
       "      <td>Adventure,Comedy</td>\n",
       "      <td>A pair of friends embark on a mission to reuni...</td>\n",
       "      <td>Scot Armstrong</td>\n",
       "      <td>Adam Pally, T.J. Miller, Thomas Middleditch,Sh...</td>\n",
       "      <td>2014</td>\n",
       "      <td>93</td>\n",
       "      <td>5.6</td>\n",
       "      <td>4881</td>\n",
       "      <td>NaN</td>\n",
       "      <td>22.0</td>\n",
       "      <td>4.6</td>\n",
       "    </tr>\n",
       "    <tr>\n",
       "      <th>999</th>\n",
       "      <td>1000</td>\n",
       "      <td>Nine Lives</td>\n",
       "      <td>Comedy,Family,Fantasy</td>\n",
       "      <td>A stuffy businessman finds himself trapped ins...</td>\n",
       "      <td>Barry Sonnenfeld</td>\n",
       "      <td>Kevin Spacey, Jennifer Garner, Robbie Amell,Ch...</td>\n",
       "      <td>2016</td>\n",
       "      <td>87</td>\n",
       "      <td>5.3</td>\n",
       "      <td>12435</td>\n",
       "      <td>19.64</td>\n",
       "      <td>11.0</td>\n",
       "      <td>4.3</td>\n",
       "    </tr>\n",
       "  </tbody>\n",
       "</table>\n",
       "<p>1000 rows × 13 columns</p>\n",
       "</div>"
      ],
      "text/plain": [
       "     Rank                    Title                     Genre  \\\n",
       "0       1  Guardians of the Galaxy   Action,Adventure,Sci-Fi   \n",
       "1       2               Prometheus  Adventure,Mystery,Sci-Fi   \n",
       "2       3                    Split           Horror,Thriller   \n",
       "3       4                     Sing   Animation,Comedy,Family   \n",
       "4       5            Suicide Squad  Action,Adventure,Fantasy   \n",
       "..    ...                      ...                       ...   \n",
       "995   996     Secret in Their Eyes       Crime,Drama,Mystery   \n",
       "996   997          Hostel: Part II                    Horror   \n",
       "997   998   Step Up 2: The Streets       Drama,Music,Romance   \n",
       "998   999             Search Party          Adventure,Comedy   \n",
       "999  1000               Nine Lives     Comedy,Family,Fantasy   \n",
       "\n",
       "                                           Description              Director  \\\n",
       "0    A group of intergalactic criminals are forced ...            James Gunn   \n",
       "1    Following clues to the origin of mankind, a te...          Ridley Scott   \n",
       "2    Three girls are kidnapped by a man with a diag...    M. Night Shyamalan   \n",
       "3    In a city of humanoid animals, a hustling thea...  Christophe Lourdelet   \n",
       "4    A secret government agency recruits some of th...            David Ayer   \n",
       "..                                                 ...                   ...   \n",
       "995  A tight-knit team of rising investigators, alo...             Billy Ray   \n",
       "996  Three American college students studying abroa...              Eli Roth   \n",
       "997  Romantic sparks occur between two dance studen...            Jon M. Chu   \n",
       "998  A pair of friends embark on a mission to reuni...        Scot Armstrong   \n",
       "999  A stuffy businessman finds himself trapped ins...      Barry Sonnenfeld   \n",
       "\n",
       "                                                Actors  Year  \\\n",
       "0    Chris Pratt, Vin Diesel, Bradley Cooper, Zoe S...  2014   \n",
       "1    Noomi Rapace, Logan Marshall-Green, Michael Fa...  2012   \n",
       "2    James McAvoy, Anya Taylor-Joy, Haley Lu Richar...  2016   \n",
       "3    Matthew McConaughey,Reese Witherspoon, Seth Ma...  2016   \n",
       "4    Will Smith, Jared Leto, Margot Robbie, Viola D...  2016   \n",
       "..                                                 ...   ...   \n",
       "995  Chiwetel Ejiofor, Nicole Kidman, Julia Roberts...  2015   \n",
       "996  Lauren German, Heather Matarazzo, Bijou Philli...  2007   \n",
       "997  Robert Hoffman, Briana Evigan, Cassie Ventura,...  2008   \n",
       "998  Adam Pally, T.J. Miller, Thomas Middleditch,Sh...  2014   \n",
       "999  Kevin Spacey, Jennifer Garner, Robbie Amell,Ch...  2016   \n",
       "\n",
       "     Runtime (Minutes)  Rating   Votes  Revenue (Millions)  Metascore  \\\n",
       "0                  121     8.1  757074              333.13       76.0   \n",
       "1                  124     7.0  485820              126.46       65.0   \n",
       "2                  117     7.3  157606              138.12       62.0   \n",
       "3                  108     7.2   60545              270.32       59.0   \n",
       "4                  123     6.2  393727              325.02       40.0   \n",
       "..                 ...     ...     ...                 ...        ...   \n",
       "995                111     6.2   27585                 NaN       45.0   \n",
       "996                 94     5.5   73152               17.54       46.0   \n",
       "997                 98     6.2   70699               58.01       50.0   \n",
       "998                 93     5.6    4881                 NaN       22.0   \n",
       "999                 87     5.3   12435               19.64       11.0   \n",
       "\n",
       "     New_rating  \n",
       "0           8.1  \n",
       "1           7.0  \n",
       "2           8.3  \n",
       "3           6.2  \n",
       "4           6.2  \n",
       "..          ...  \n",
       "995         6.2  \n",
       "996         5.5  \n",
       "997         6.2  \n",
       "998         4.6  \n",
       "999         4.3  \n",
       "\n",
       "[1000 rows x 13 columns]"
      ]
     },
     "execution_count": 62,
     "metadata": {},
     "output_type": "execute_result"
    }
   ],
   "source": [
    "df"
   ]
  },
  {
   "cell_type": "markdown",
   "id": "e82e9a07",
   "metadata": {},
   "source": [
    "2. find rows where the number of words in the movie title is higher than or equal to four."
   ]
  },
  {
   "cell_type": "code",
   "execution_count": 63,
   "id": "ecab1e12",
   "metadata": {},
   "outputs": [
    {
     "data": {
      "text/html": [
       "<div>\n",
       "<style scoped>\n",
       "    .dataframe tbody tr th:only-of-type {\n",
       "        vertical-align: middle;\n",
       "    }\n",
       "\n",
       "    .dataframe tbody tr th {\n",
       "        vertical-align: top;\n",
       "    }\n",
       "\n",
       "    .dataframe thead th {\n",
       "        text-align: right;\n",
       "    }\n",
       "</style>\n",
       "<table border=\"1\" class=\"dataframe\">\n",
       "  <thead>\n",
       "    <tr style=\"text-align: right;\">\n",
       "      <th></th>\n",
       "      <th>Rank</th>\n",
       "      <th>Title</th>\n",
       "      <th>Genre</th>\n",
       "      <th>Description</th>\n",
       "      <th>Director</th>\n",
       "      <th>Actors</th>\n",
       "      <th>Year</th>\n",
       "      <th>Runtime (Minutes)</th>\n",
       "      <th>Rating</th>\n",
       "      <th>Votes</th>\n",
       "      <th>Revenue (Millions)</th>\n",
       "      <th>Metascore</th>\n",
       "      <th>New_rating</th>\n",
       "      <th>num_word_title</th>\n",
       "    </tr>\n",
       "  </thead>\n",
       "  <tbody>\n",
       "    <tr>\n",
       "      <th>0</th>\n",
       "      <td>1</td>\n",
       "      <td>Guardians of the Galaxy</td>\n",
       "      <td>Action,Adventure,Sci-Fi</td>\n",
       "      <td>A group of intergalactic criminals are forced ...</td>\n",
       "      <td>James Gunn</td>\n",
       "      <td>Chris Pratt, Vin Diesel, Bradley Cooper, Zoe S...</td>\n",
       "      <td>2014</td>\n",
       "      <td>121</td>\n",
       "      <td>8.1</td>\n",
       "      <td>757074</td>\n",
       "      <td>333.13</td>\n",
       "      <td>76.0</td>\n",
       "      <td>8.1</td>\n",
       "      <td>4</td>\n",
       "    </tr>\n",
       "    <tr>\n",
       "      <th>8</th>\n",
       "      <td>9</td>\n",
       "      <td>The Lost City of Z</td>\n",
       "      <td>Action,Adventure,Biography</td>\n",
       "      <td>A true-life drama, centering on British explor...</td>\n",
       "      <td>James Gray</td>\n",
       "      <td>Charlie Hunnam, Robert Pattinson, Sienna Mille...</td>\n",
       "      <td>2016</td>\n",
       "      <td>141</td>\n",
       "      <td>7.1</td>\n",
       "      <td>7188</td>\n",
       "      <td>8.01</td>\n",
       "      <td>78.0</td>\n",
       "      <td>7.1</td>\n",
       "      <td>5</td>\n",
       "    </tr>\n",
       "    <tr>\n",
       "      <th>10</th>\n",
       "      <td>11</td>\n",
       "      <td>Fantastic Beasts and Where to Find Them</td>\n",
       "      <td>Adventure,Family,Fantasy</td>\n",
       "      <td>The adventures of writer Newt Scamander in New...</td>\n",
       "      <td>David Yates</td>\n",
       "      <td>Eddie Redmayne, Katherine Waterston, Alison Su...</td>\n",
       "      <td>2016</td>\n",
       "      <td>133</td>\n",
       "      <td>7.5</td>\n",
       "      <td>232072</td>\n",
       "      <td>234.02</td>\n",
       "      <td>66.0</td>\n",
       "      <td>7.5</td>\n",
       "      <td>7</td>\n",
       "    </tr>\n",
       "    <tr>\n",
       "      <th>15</th>\n",
       "      <td>16</td>\n",
       "      <td>The Secret Life of Pets</td>\n",
       "      <td>Animation,Adventure,Comedy</td>\n",
       "      <td>The quiet life of a terrier named Max is upend...</td>\n",
       "      <td>Chris Renaud</td>\n",
       "      <td>Louis C.K., Eric Stonestreet, Kevin Hart, Lake...</td>\n",
       "      <td>2016</td>\n",
       "      <td>87</td>\n",
       "      <td>6.6</td>\n",
       "      <td>120259</td>\n",
       "      <td>368.31</td>\n",
       "      <td>61.0</td>\n",
       "      <td>5.6</td>\n",
       "      <td>5</td>\n",
       "    </tr>\n",
       "    <tr>\n",
       "      <th>21</th>\n",
       "      <td>22</td>\n",
       "      <td>Manchester by the Sea</td>\n",
       "      <td>Drama</td>\n",
       "      <td>A depressed uncle is asked to take care of his...</td>\n",
       "      <td>Kenneth Lonergan</td>\n",
       "      <td>Casey Affleck, Michelle Williams, Kyle Chandle...</td>\n",
       "      <td>2016</td>\n",
       "      <td>137</td>\n",
       "      <td>7.9</td>\n",
       "      <td>134213</td>\n",
       "      <td>47.70</td>\n",
       "      <td>96.0</td>\n",
       "      <td>7.9</td>\n",
       "      <td>4</td>\n",
       "    </tr>\n",
       "  </tbody>\n",
       "</table>\n",
       "</div>"
      ],
      "text/plain": [
       "    Rank                                    Title                       Genre  \\\n",
       "0      1                  Guardians of the Galaxy     Action,Adventure,Sci-Fi   \n",
       "8      9                       The Lost City of Z  Action,Adventure,Biography   \n",
       "10    11  Fantastic Beasts and Where to Find Them    Adventure,Family,Fantasy   \n",
       "15    16                  The Secret Life of Pets  Animation,Adventure,Comedy   \n",
       "21    22                    Manchester by the Sea                       Drama   \n",
       "\n",
       "                                          Description          Director  \\\n",
       "0   A group of intergalactic criminals are forced ...        James Gunn   \n",
       "8   A true-life drama, centering on British explor...        James Gray   \n",
       "10  The adventures of writer Newt Scamander in New...       David Yates   \n",
       "15  The quiet life of a terrier named Max is upend...      Chris Renaud   \n",
       "21  A depressed uncle is asked to take care of his...  Kenneth Lonergan   \n",
       "\n",
       "                                               Actors  Year  \\\n",
       "0   Chris Pratt, Vin Diesel, Bradley Cooper, Zoe S...  2014   \n",
       "8   Charlie Hunnam, Robert Pattinson, Sienna Mille...  2016   \n",
       "10  Eddie Redmayne, Katherine Waterston, Alison Su...  2016   \n",
       "15  Louis C.K., Eric Stonestreet, Kevin Hart, Lake...  2016   \n",
       "21  Casey Affleck, Michelle Williams, Kyle Chandle...  2016   \n",
       "\n",
       "    Runtime (Minutes)  Rating   Votes  Revenue (Millions)  Metascore  \\\n",
       "0                 121     8.1  757074              333.13       76.0   \n",
       "8                 141     7.1    7188                8.01       78.0   \n",
       "10                133     7.5  232072              234.02       66.0   \n",
       "15                 87     6.6  120259              368.31       61.0   \n",
       "21                137     7.9  134213               47.70       96.0   \n",
       "\n",
       "    New_rating  num_word_title  \n",
       "0          8.1               4  \n",
       "8          7.1               5  \n",
       "10         7.5               7  \n",
       "15         5.6               5  \n",
       "21         7.9               4  "
      ]
     },
     "execution_count": 63,
     "metadata": {},
     "output_type": "execute_result"
    }
   ],
   "source": [
    "df[\"num_word_title\"] = df.apply(lambda x: len(x[\"Title\"].split(\" \")), axis = 1)\n",
    "\n",
    "new_df = df[df[\"num_word_title\"]>=4]\n",
    "new_df.head()"
   ]
  },
  {
   "cell_type": "markdown",
   "id": "6e6a31d1",
   "metadata": {},
   "source": [
    "# Module 4 Numpy Array"
   ]
  },
  {
   "cell_type": "markdown",
   "id": "df7ad275",
   "metadata": {},
   "source": [
    "1. Create a numpy array with the number of elements equals your age. The value of array elements\n",
    "is a random number between 10 to your age"
   ]
  },
  {
   "cell_type": "code",
   "execution_count": 64,
   "id": "fd33995f",
   "metadata": {},
   "outputs": [
    {
     "data": {
      "text/plain": [
       "array([ 0,  1,  2,  3,  4,  5,  6,  7,  8,  9, 10, 11, 12, 13, 14, 15, 16,\n",
       "       17, 18, 19, 20, 21, 22, 23])"
      ]
     },
     "execution_count": 64,
     "metadata": {},
     "output_type": "execute_result"
    }
   ],
   "source": [
    "Array = np.arange(24)\n",
    "Array"
   ]
  },
  {
   "cell_type": "code",
   "execution_count": 65,
   "id": "dafb6ba8",
   "metadata": {},
   "outputs": [
    {
     "name": "stdout",
     "output_type": "stream",
     "text": [
      "[ 1  4  7 10 13 16 19 22 25 28 31 34 37 40 43 46 49]\n",
      "17\n"
     ]
    }
   ],
   "source": [
    "# 2. Create a numpy array between 1 to 50 with the span(space) of 2 and print the length of the array\n",
    "Array = np.arange(1,50,3)\n",
    "print(Array)\n",
    "print(len(Array))"
   ]
  },
  {
   "cell_type": "code",
   "execution_count": 66,
   "id": "69e7fe7a",
   "metadata": {},
   "outputs": [
    {
     "data": {
      "text/plain": [
       "array([4.        , 4.11538462, 4.23076923, 4.34615385, 4.46153846,\n",
       "       4.57692308, 4.69230769, 4.80769231, 4.92307692, 5.03846154,\n",
       "       5.15384615, 5.26923077, 5.38461538, 5.5       , 5.61538462,\n",
       "       5.73076923, 5.84615385, 5.96153846, 6.07692308, 6.19230769,\n",
       "       6.30769231, 6.42307692, 6.53846154, 6.65384615, 6.76923077,\n",
       "       6.88461538, 7.        ])"
      ]
     },
     "execution_count": 66,
     "metadata": {},
     "output_type": "execute_result"
    }
   ],
   "source": [
    "#3. Create an equally spaced numpy array with 27 elements between 4 and 7¶\n",
    "Array = np.linspace(4,7, num = 27)\n",
    "Array"
   ]
  },
  {
   "cell_type": "code",
   "execution_count": 67,
   "id": "9f7b338b",
   "metadata": {
    "scrolled": false
   },
   "outputs": [
    {
     "name": "stdout",
     "output_type": "stream",
     "text": [
      "[[0.45 0.03 0.77 0.3 ]\n",
      " [0.52 0.39 0.14 0.79]\n",
      " [0.37 0.82 0.65 0.09]\n",
      " [0.83 0.14 0.92 0.06]\n",
      " [0.45 0.35 0.96 0.89]]\n"
     ]
    }
   ],
   "source": [
    "#4. Create a matrix of size (5 x 4) with random numbers and round off the each elements by only 2 fractional points.\n",
    "Array = np.random.rand(5,4)\n",
    "Round_off = np.round_(Array, 2)\n",
    "print(Round_off)"
   ]
  },
  {
   "cell_type": "code",
   "execution_count": 70,
   "id": "ee5d67c8",
   "metadata": {},
   "outputs": [
    {
     "data": {
      "text/plain": [
       "array([0, 0, 0, 0, 0, 0, 0, 0, 0, 0, 0, 0, 0, 0, 0, 0, 0, 0, 0, 0])"
      ]
     },
     "execution_count": 70,
     "metadata": {},
     "output_type": "execute_result"
    }
   ],
   "source": [
    "#5. Create the one dimensional array of zeros of random length below 20 with the data type int32\n",
    "Array = np.zeros(20, dtype = np.int32)\n",
    "Array"
   ]
  },
  {
   "cell_type": "code",
   "execution_count": 73,
   "id": "ec63e72f",
   "metadata": {},
   "outputs": [
    {
     "data": {
      "text/plain": [
       "array([[1., 1., 1., 1.],\n",
       "       [1., 1., 1., 1.],\n",
       "       [1., 1., 1., 1.],\n",
       "       [1., 1., 1., 1.],\n",
       "       [1., 1., 1., 1.]], dtype=float32)"
      ]
     },
     "execution_count": 73,
     "metadata": {},
     "output_type": "execute_result"
    }
   ],
   "source": [
    "#6. Create a two dimensional array of ones of random row and column lengths with the data type of float32\n",
    "Array = np.ones([5,4], dtype = np.float32)\n",
    "Array"
   ]
  },
  {
   "cell_type": "code",
   "execution_count": 18,
   "id": "1a8c3c0e",
   "metadata": {},
   "outputs": [
    {
     "data": {
      "text/plain": [
       "array([[ 9, 25, 50, 34, 45],\n",
       "       [ 3, 34, 34, 65,  2],\n",
       "       [ 5,  7,  3, 76,  3],\n",
       "       [ 7,  8,  6, 54,  6],\n",
       "       [23, 12,  8,  5,  8]])"
      ]
     },
     "execution_count": 18,
     "metadata": {},
     "output_type": "execute_result"
    }
   ],
   "source": [
    "# 7. Create a matrix exactly as same as shown below and print its shape, type and dtype \n",
    "Arr = np.array([9,25,50,34,45,3,34,34,65,2,5,7,3,76,3,7,8,6,54,6,23,12,8,5,8]).reshape([5,5])\n",
    "Arr"
   ]
  },
  {
   "cell_type": "code",
   "execution_count": 19,
   "id": "4e953c69",
   "metadata": {},
   "outputs": [
    {
     "data": {
      "text/plain": [
       "(5, 5)"
      ]
     },
     "execution_count": 19,
     "metadata": {},
     "output_type": "execute_result"
    }
   ],
   "source": [
    "Arr.shape"
   ]
  },
  {
   "cell_type": "code",
   "execution_count": 20,
   "id": "62a4438a",
   "metadata": {},
   "outputs": [
    {
     "data": {
      "text/plain": [
       "numpy.ndarray"
      ]
     },
     "execution_count": 20,
     "metadata": {},
     "output_type": "execute_result"
    }
   ],
   "source": [
    "type(Arr)"
   ]
  },
  {
   "cell_type": "code",
   "execution_count": 22,
   "id": "a84eed35",
   "metadata": {},
   "outputs": [
    {
     "data": {
      "text/plain": [
       "dtype('int32')"
      ]
     },
     "execution_count": 22,
     "metadata": {},
     "output_type": "execute_result"
    }
   ],
   "source": [
    "Arr.dtype"
   ]
  },
  {
   "cell_type": "code",
   "execution_count": 27,
   "id": "c558f565",
   "metadata": {
    "scrolled": true
   },
   "outputs": [],
   "source": [
    "#8. Access the center pixel of the matrix defined in the question no 8 ( Don&#39;t enter the row and column index explicitely)\n"
   ]
  },
  {
   "cell_type": "markdown",
   "id": "13009f15",
   "metadata": {},
   "source": [
    "# Module - 5 Pandas"
   ]
  },
  {
   "cell_type": "code",
   "execution_count": 4,
   "id": "a41f4f1f",
   "metadata": {},
   "outputs": [
    {
     "data": {
      "text/plain": [
       "0    56\n",
       "1    67\n",
       "2    42\n",
       "3    39\n",
       "4    96\n",
       "5    84\n",
       "dtype: int32"
      ]
     },
     "execution_count": 4,
     "metadata": {},
     "output_type": "execute_result"
    }
   ],
   "source": [
    "#1.Create a series with marks of unit test 1 [56,67,42,39,96,84] and then create index of this series as\n",
    "#[\"Rahul\",\"ram\",\"sarvan\",\"nisha\",\"swati\",\"raju\"]\n",
    "\n",
    "Unit_test_1 = np.array([56,67,42,39,96,84])\n",
    "\n",
    "ser = pd.Series(Unit_test_1)\n",
    "ser"
   ]
  },
  {
   "cell_type": "code",
   "execution_count": 7,
   "id": "c09d4a9c",
   "metadata": {},
   "outputs": [
    {
     "data": {
      "text/plain": [
       "Rahul     56\n",
       "ram       67\n",
       "sarvan    42\n",
       "nisha     39\n",
       "swati     96\n",
       "raju      84\n",
       "dtype: int32"
      ]
     },
     "execution_count": 7,
     "metadata": {},
     "output_type": "execute_result"
    }
   ],
   "source": [
    "ser = pd.Series(Unit_test_1, index= [\"Rahul\",\"ram\",\"sarvan\",\"nisha\",\"swati\",\"raju\"] )\n",
    "ser"
   ]
  },
  {
   "cell_type": "code",
   "execution_count": 9,
   "id": "caa329c6",
   "metadata": {},
   "outputs": [
    {
     "data": {
      "text/plain": [
       "Rahul     53\n",
       "ram       77\n",
       "sarvan    51\n",
       "nisha     32\n",
       "swati     92\n",
       "raju      60\n",
       "dtype: int32"
      ]
     },
     "execution_count": 9,
     "metadata": {},
     "output_type": "execute_result"
    }
   ],
   "source": [
    "#Create another series with of unit test 2 [53,77,51,32,92,60] for all the same names mentioned above\n",
    "Unit_test_2 = np.array([53,77,51,32,92,60])\n",
    "\n",
    "ser2 =  pd.Series(Unit_test_2, index= [\"Rahul\",\"ram\",\"sarvan\",\"nisha\",\"swati\",\"raju\"] )\n",
    "ser2"
   ]
  },
  {
   "cell_type": "code",
   "execution_count": 10,
   "id": "490f256a",
   "metadata": {},
   "outputs": [
    {
     "data": {
      "text/plain": [
       "Rahul     54.5\n",
       "ram       72.0\n",
       "sarvan    46.5\n",
       "nisha     35.5\n",
       "swati     94.0\n",
       "raju      72.0\n",
       "dtype: float64"
      ]
     },
     "execution_count": 10,
     "metadata": {},
     "output_type": "execute_result"
    }
   ],
   "source": [
    "#3.Now find the average marks obtained by each students.\n",
    "\n",
    "Avg_ser = (ser + ser2)/2\n",
    "Avg_ser"
   ]
  },
  {
   "cell_type": "code",
   "execution_count": 12,
   "id": "bd1c7289",
   "metadata": {},
   "outputs": [
    {
     "data": {
      "text/plain": [
       "sarvan    52\n",
       "nisha     36\n",
       "dtype: int32"
      ]
     },
     "execution_count": 12,
     "metadata": {},
     "output_type": "execute_result"
    }
   ],
   "source": [
    "#4.Create a new series for students \"sarvan\" and \"nisha\" with marks 52 and 36.\n",
    "data = np.array([52,36])\n",
    "new_ser  = pd.Series(data, index= [\"sarvan\", \"nisha\"])\n",
    "\n",
    "new_ser"
   ]
  },
  {
   "cell_type": "code",
   "execution_count": 15,
   "id": "124ba7da",
   "metadata": {},
   "outputs": [
    {
     "data": {
      "text/plain": [
       "Rahul     54.5\n",
       "ram       72.0\n",
       "sarvan    52.0\n",
       "nisha     36.0\n",
       "swati     94.0\n",
       "raju      72.0\n",
       "dtype: float64"
      ]
     },
     "execution_count": 15,
     "metadata": {},
     "output_type": "execute_result"
    }
   ],
   "source": [
    "#5.Replace marks of &#39;sarvan&#39; and &#39;nisha&#39; with marks 52 and 36 in average marks series.\n",
    "Avg_ser.update(new_ser)\n",
    "Avg_ser"
   ]
  },
  {
   "cell_type": "code",
   "execution_count": 17,
   "id": "2d4377e8",
   "metadata": {},
   "outputs": [
    {
     "data": {
      "text/plain": [
       "ram      72.0\n",
       "swati    94.0\n",
       "raju     72.0\n",
       "dtype: float64"
      ]
     },
     "execution_count": 17,
     "metadata": {},
     "output_type": "execute_result"
    }
   ],
   "source": [
    "#6. Find out students who obtained more then 70\n",
    "above_70 = pd.Series(Avg_ser).where(lambda x: x > 70).dropna()\n",
    "above_70"
   ]
  },
  {
   "cell_type": "code",
   "execution_count": null,
   "id": "783307e7",
   "metadata": {},
   "outputs": [],
   "source": []
  }
 ],
 "metadata": {
  "kernelspec": {
   "display_name": "Python 3",
   "language": "python",
   "name": "python3"
  },
  "language_info": {
   "codemirror_mode": {
    "name": "ipython",
    "version": 3
   },
   "file_extension": ".py",
   "mimetype": "text/x-python",
   "name": "python",
   "nbconvert_exporter": "python",
   "pygments_lexer": "ipython3",
   "version": "3.8.8"
  }
 },
 "nbformat": 4,
 "nbformat_minor": 5
}
